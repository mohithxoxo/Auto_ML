{
  "nbformat": 4,
  "nbformat_minor": 0,
  "metadata": {
    "kernelspec": {
      "display_name": "Python 3",
      "language": "python",
      "name": "python3"
    },
    "language_info": {
      "codemirror_mode": {
        "name": "ipython",
        "version": 3
      },
      "file_extension": ".py",
      "mimetype": "text/x-python",
      "name": "python",
      "nbconvert_exporter": "python",
      "pygments_lexer": "ipython3",
      "version": "3.5.2"
    },
    "colab": {
      "name": "h20_regression_problem.ipynb",
      "provenance": [],
      "include_colab_link": true
    }
  },
  "cells": [
    {
      "cell_type": "markdown",
      "metadata": {
        "id": "view-in-github",
        "colab_type": "text"
      },
      "source": [
        "<a href=\"https://colab.research.google.com/github/mohithxoxo/Auto_ML/blob/master/h20_regression_problem.ipynb\" target=\"_parent\"><img src=\"https://colab.research.google.com/assets/colab-badge.svg\" alt=\"Open In Colab\"/></a>"
      ]
    },
    {
      "cell_type": "code",
      "metadata": {
        "id": "m3GueJ4IS-qI",
        "colab_type": "code",
        "colab": {
          "base_uri": "https://localhost:8080/",
          "height": 820
        },
        "outputId": "3c5cd92c-53c8-4315-e9b1-4be3751f7b62"
      },
      "source": [
        "!pip install h2o\n",
        "import h2o\n",
        "from h2o.automl import H2OAutoML\n",
        "h2o.init()"
      ],
      "execution_count": 2,
      "outputs": [
        {
          "output_type": "stream",
          "text": [
            "Collecting h2o\n",
            "\u001b[?25l  Downloading https://files.pythonhosted.org/packages/b7/83/53eb19ffd83e99ccd77bd1ee9f87b2a663f75f5cb725cdac3eaa004de197/h2o-3.30.1.2.tar.gz (129.4MB)\n",
            "\u001b[K     |████████████████████████████████| 129.4MB 54kB/s \n",
            "\u001b[?25hRequirement already satisfied: requests in /usr/local/lib/python3.6/dist-packages (from h2o) (2.23.0)\n",
            "Requirement already satisfied: tabulate in /usr/local/lib/python3.6/dist-packages (from h2o) (0.8.7)\n",
            "Requirement already satisfied: future in /usr/local/lib/python3.6/dist-packages (from h2o) (0.16.0)\n",
            "Collecting colorama>=0.3.8\n",
            "  Downloading https://files.pythonhosted.org/packages/c9/dc/45cdef1b4d119eb96316b3117e6d5708a08029992b2fee2c143c7a0a5cc5/colorama-0.4.3-py2.py3-none-any.whl\n",
            "Requirement already satisfied: urllib3!=1.25.0,!=1.25.1,<1.26,>=1.21.1 in /usr/local/lib/python3.6/dist-packages (from requests->h2o) (1.24.3)\n",
            "Requirement already satisfied: chardet<4,>=3.0.2 in /usr/local/lib/python3.6/dist-packages (from requests->h2o) (3.0.4)\n",
            "Requirement already satisfied: idna<3,>=2.5 in /usr/local/lib/python3.6/dist-packages (from requests->h2o) (2.10)\n",
            "Requirement already satisfied: certifi>=2017.4.17 in /usr/local/lib/python3.6/dist-packages (from requests->h2o) (2020.6.20)\n",
            "Building wheels for collected packages: h2o\n",
            "  Building wheel for h2o (setup.py) ... \u001b[?25l\u001b[?25hdone\n",
            "  Created wheel for h2o: filename=h2o-3.30.1.2-py2.py3-none-any.whl size=129446949 sha256=6752f07a6133524948daa0555d3d7692f60c58ce46357631db16c8bb4cf00617\n",
            "  Stored in directory: /root/.cache/pip/wheels/c6/be/83/a33a3c1c97fce1d136222bf4ed6d79da405ef6103f5b434c1e\n",
            "Successfully built h2o\n",
            "Installing collected packages: colorama, h2o\n",
            "Successfully installed colorama-0.4.3 h2o-3.30.1.2\n",
            "Checking whether there is an H2O instance running at http://localhost:54321 ..... not found.\n",
            "Attempting to start a local H2O server...\n",
            "  Java Version: openjdk version \"11.0.8\" 2020-07-14; OpenJDK Runtime Environment (build 11.0.8+10-post-Ubuntu-0ubuntu118.04.1); OpenJDK 64-Bit Server VM (build 11.0.8+10-post-Ubuntu-0ubuntu118.04.1, mixed mode, sharing)\n",
            "  Starting server from /usr/local/lib/python3.6/dist-packages/h2o/backend/bin/h2o.jar\n",
            "  Ice root: /tmp/tmptnyrm_om\n",
            "  JVM stdout: /tmp/tmptnyrm_om/h2o_unknownUser_started_from_python.out\n",
            "  JVM stderr: /tmp/tmptnyrm_om/h2o_unknownUser_started_from_python.err\n",
            "  Server is running at http://127.0.0.1:54321\n",
            "Connecting to H2O server at http://127.0.0.1:54321 ... successful.\n"
          ],
          "name": "stdout"
        },
        {
          "output_type": "display_data",
          "data": {
            "text/html": [
              "<div style=\"overflow:auto\"><table style=\"width:50%\"><tr><td>H2O_cluster_uptime:</td>\n",
              "<td>03 secs</td></tr>\n",
              "<tr><td>H2O_cluster_timezone:</td>\n",
              "<td>Etc/UTC</td></tr>\n",
              "<tr><td>H2O_data_parsing_timezone:</td>\n",
              "<td>UTC</td></tr>\n",
              "<tr><td>H2O_cluster_version:</td>\n",
              "<td>3.30.1.2</td></tr>\n",
              "<tr><td>H2O_cluster_version_age:</td>\n",
              "<td>18 days </td></tr>\n",
              "<tr><td>H2O_cluster_name:</td>\n",
              "<td>H2O_from_python_unknownUser_9q2pe8</td></tr>\n",
              "<tr><td>H2O_cluster_total_nodes:</td>\n",
              "<td>1</td></tr>\n",
              "<tr><td>H2O_cluster_free_memory:</td>\n",
              "<td>3.180 Gb</td></tr>\n",
              "<tr><td>H2O_cluster_total_cores:</td>\n",
              "<td>2</td></tr>\n",
              "<tr><td>H2O_cluster_allowed_cores:</td>\n",
              "<td>2</td></tr>\n",
              "<tr><td>H2O_cluster_status:</td>\n",
              "<td>accepting new members, healthy</td></tr>\n",
              "<tr><td>H2O_connection_url:</td>\n",
              "<td>http://127.0.0.1:54321</td></tr>\n",
              "<tr><td>H2O_connection_proxy:</td>\n",
              "<td>{\"http\": null, \"https\": null}</td></tr>\n",
              "<tr><td>H2O_internal_security:</td>\n",
              "<td>False</td></tr>\n",
              "<tr><td>H2O_API_Extensions:</td>\n",
              "<td>Amazon S3, XGBoost, Algos, AutoML, Core V3, TargetEncoder, Core V4</td></tr>\n",
              "<tr><td>Python_version:</td>\n",
              "<td>3.6.9 final</td></tr></table></div>"
            ],
            "text/plain": [
              "--------------------------  ------------------------------------------------------------------\n",
              "H2O_cluster_uptime:         03 secs\n",
              "H2O_cluster_timezone:       Etc/UTC\n",
              "H2O_data_parsing_timezone:  UTC\n",
              "H2O_cluster_version:        3.30.1.2\n",
              "H2O_cluster_version_age:    18 days\n",
              "H2O_cluster_name:           H2O_from_python_unknownUser_9q2pe8\n",
              "H2O_cluster_total_nodes:    1\n",
              "H2O_cluster_free_memory:    3.180 Gb\n",
              "H2O_cluster_total_cores:    2\n",
              "H2O_cluster_allowed_cores:  2\n",
              "H2O_cluster_status:         accepting new members, healthy\n",
              "H2O_connection_url:         http://127.0.0.1:54321\n",
              "H2O_connection_proxy:       {\"http\": null, \"https\": null}\n",
              "H2O_internal_security:      False\n",
              "H2O_API_Extensions:         Amazon S3, XGBoost, Algos, AutoML, Core V3, TargetEncoder, Core V4\n",
              "Python_version:             3.6.9 final\n",
              "--------------------------  ------------------------------------------------------------------"
            ]
          },
          "metadata": {
            "tags": []
          }
        }
      ]
    },
    {
      "cell_type": "code",
      "metadata": {
        "id": "qHrabl7QS-qT",
        "colab_type": "code",
        "colab": {
          "base_uri": "https://localhost:8080/",
          "height": 34
        },
        "outputId": "1738ffbd-e6ce-4b66-c215-53dbfd977130"
      },
      "source": [
        "# Use local data file or download from GitHub\n",
        "data_path = \"https://github.com/h2oai/h2o-tutorials/raw/master/h2o-world-2017/automl/data/powerplant_output.csv\"\n",
        "\n",
        "\n",
        "# Load data into H2O\n",
        "df = h2o.import_file(data_path)"
      ],
      "execution_count": 3,
      "outputs": [
        {
          "output_type": "stream",
          "text": [
            "Parse progress: |█████████████████████████████████████████████████████████| 100%\n"
          ],
          "name": "stdout"
        }
      ]
    },
    {
      "cell_type": "markdown",
      "metadata": {
        "id": "6wQ-xgk3S-qY",
        "colab_type": "text"
      },
      "source": [
        "Let's take a look at the data."
      ]
    },
    {
      "cell_type": "code",
      "metadata": {
        "id": "hHtJmlhWS-qa",
        "colab_type": "code",
        "colab": {
          "base_uri": "https://localhost:8080/",
          "height": 408
        },
        "outputId": "c1050ef2-c39a-43e5-b653-2bd13cdf6198"
      },
      "source": [
        "df.describe()"
      ],
      "execution_count": 4,
      "outputs": [
        {
          "output_type": "stream",
          "text": [
            "Rows:9568\n",
            "Cols:5\n",
            "\n",
            "\n"
          ],
          "name": "stdout"
        },
        {
          "output_type": "display_data",
          "data": {
            "text/html": [
              "<table>\n",
              "<thead>\n",
              "<tr><th>       </th><th>TemperatureCelcius  </th><th>ExhaustVacuumHg   </th><th>AmbientPressureMillibar  </th><th>RelativeHumidity  </th><th>HourlyEnergyOutputMW  </th></tr>\n",
              "</thead>\n",
              "<tbody>\n",
              "<tr><td>type   </td><td>real                </td><td>real              </td><td>real                     </td><td>real              </td><td>real                  </td></tr>\n",
              "<tr><td>mins   </td><td>1.81                </td><td>25.36             </td><td>992.89                   </td><td>25.56             </td><td>420.26                </td></tr>\n",
              "<tr><td>mean   </td><td>19.651231187290957  </td><td>54.3058037207358  </td><td>1013.2590781772578       </td><td>73.30897784280936 </td><td>454.36500940635455    </td></tr>\n",
              "<tr><td>maxs   </td><td>37.11               </td><td>81.56             </td><td>1033.3                   </td><td>100.16            </td><td>495.76                </td></tr>\n",
              "<tr><td>sigma  </td><td>7.452473229611082   </td><td>12.707892998326807</td><td>5.93878370581162         </td><td>14.600268756728957</td><td>17.066994999803423    </td></tr>\n",
              "<tr><td>zeros  </td><td>0                   </td><td>0                 </td><td>0                        </td><td>0                 </td><td>0                     </td></tr>\n",
              "<tr><td>missing</td><td>0                   </td><td>0                 </td><td>0                        </td><td>0                 </td><td>0                     </td></tr>\n",
              "<tr><td>0      </td><td>14.96               </td><td>41.76             </td><td>1024.07                  </td><td>73.17             </td><td>463.26                </td></tr>\n",
              "<tr><td>1      </td><td>25.18               </td><td>62.96             </td><td>1020.04                  </td><td>59.08             </td><td>444.37                </td></tr>\n",
              "<tr><td>2      </td><td>5.11                </td><td>39.4              </td><td>1012.16                  </td><td>92.14             </td><td>488.56                </td></tr>\n",
              "<tr><td>3      </td><td>20.86               </td><td>57.32             </td><td>1010.24                  </td><td>76.64             </td><td>446.48                </td></tr>\n",
              "<tr><td>4      </td><td>10.82               </td><td>37.5              </td><td>1009.23                  </td><td>96.62             </td><td>473.9                 </td></tr>\n",
              "<tr><td>5      </td><td>26.27               </td><td>59.44             </td><td>1012.23                  </td><td>58.77             </td><td>443.67                </td></tr>\n",
              "<tr><td>6      </td><td>15.89               </td><td>43.96             </td><td>1014.02                  </td><td>75.24             </td><td>467.35                </td></tr>\n",
              "<tr><td>7      </td><td>9.48                </td><td>44.71             </td><td>1019.12                  </td><td>66.43             </td><td>478.42                </td></tr>\n",
              "<tr><td>8      </td><td>14.64               </td><td>45.0              </td><td>1021.78                  </td><td>41.25             </td><td>475.98                </td></tr>\n",
              "<tr><td>9      </td><td>11.74               </td><td>43.56             </td><td>1015.14                  </td><td>70.72             </td><td>477.5                 </td></tr>\n",
              "</tbody>\n",
              "</table>"
            ]
          },
          "metadata": {
            "tags": []
          }
        }
      ]
    },
    {
      "cell_type": "code",
      "metadata": {
        "id": "ZWBRNOZcS-qh",
        "colab_type": "code",
        "colab": {}
      },
      "source": [
        "y = \"HourlyEnergyOutputMW\""
      ],
      "execution_count": 5,
      "outputs": []
    },
    {
      "cell_type": "code",
      "metadata": {
        "id": "lXa2ezgyS-qn",
        "colab_type": "code",
        "colab": {}
      },
      "source": [
        "splits = df.split_frame(ratios = [0.8], seed = 1)\n",
        "train = splits[0]\n",
        "test = splits[1]"
      ],
      "execution_count": 6,
      "outputs": []
    },
    {
      "cell_type": "code",
      "metadata": {
        "id": "pesM1Wp6S-qt",
        "colab_type": "code",
        "colab": {
          "base_uri": "https://localhost:8080/",
          "height": 34
        },
        "outputId": "6bd4baf3-1c1b-485a-8202-f97641b5f706"
      },
      "source": [
        "aml = H2OAutoML(max_runtime_secs = 60, seed = 1, project_name = \"powerplant_lb_frame\")\n",
        "aml.train(y = y, training_frame = train, leaderboard_frame = test)"
      ],
      "execution_count": 7,
      "outputs": [
        {
          "output_type": "stream",
          "text": [
            "AutoML progress: |████████████████████████████████████████████████████████| 100%\n"
          ],
          "name": "stdout"
        }
      ]
    },
    {
      "cell_type": "code",
      "metadata": {
        "id": "D3C4ilfoS-q7",
        "colab_type": "code",
        "colab": {
          "base_uri": "https://localhost:8080/",
          "height": 34
        },
        "outputId": "ff0fe3d7-7ca5-4e61-e3c7-9cc4ea158ab5"
      },
      "source": [
        "aml2 = H2OAutoML(max_runtime_secs = 60, seed = 1, project_name = \"powerplant_full_data\")\n",
        "aml2.train(y = y, training_frame = df)"
      ],
      "execution_count": 8,
      "outputs": [
        {
          "output_type": "stream",
          "text": [
            "AutoML progress: |████████████████████████████████████████████████████████| 100%\n"
          ],
          "name": "stdout"
        }
      ]
    },
    {
      "cell_type": "code",
      "metadata": {
        "id": "wczCy0nqS-rB",
        "colab_type": "code",
        "colab": {
          "base_uri": "https://localhost:8080/",
          "height": 213
        },
        "outputId": "ca5d17f2-244f-4881-a37b-0b9926b47254"
      },
      "source": [
        "aml.leaderboard.head()"
      ],
      "execution_count": 9,
      "outputs": [
        {
          "output_type": "display_data",
          "data": {
            "text/html": [
              "<table>\n",
              "<thead>\n",
              "<tr><th>model_id                                           </th><th style=\"text-align: right;\">  mean_residual_deviance</th><th style=\"text-align: right;\">   rmse</th><th style=\"text-align: right;\">    mse</th><th style=\"text-align: right;\">    mae</th><th style=\"text-align: right;\">     rmsle</th></tr>\n",
              "</thead>\n",
              "<tbody>\n",
              "<tr><td>XGBoost_grid__1_AutoML_20200922_053533_model_1     </td><td style=\"text-align: right;\">                 12.1625</td><td style=\"text-align: right;\">3.48748</td><td style=\"text-align: right;\">12.1625</td><td style=\"text-align: right;\">2.46773</td><td style=\"text-align: right;\">0.00767046</td></tr>\n",
              "<tr><td>GBM_grid__1_AutoML_20200922_053533_model_1         </td><td style=\"text-align: right;\">                 16.245 </td><td style=\"text-align: right;\">4.03051</td><td style=\"text-align: right;\">16.245 </td><td style=\"text-align: right;\">3.00174</td><td style=\"text-align: right;\">0.00886187</td></tr>\n",
              "<tr><td>XGBoost_2_AutoML_20200922_053533                   </td><td style=\"text-align: right;\">                 17.1626</td><td style=\"text-align: right;\">4.14278</td><td style=\"text-align: right;\">17.1626</td><td style=\"text-align: right;\">3.0811 </td><td style=\"text-align: right;\">0.00909861</td></tr>\n",
              "<tr><td>XGBoost_3_AutoML_20200922_053533                   </td><td style=\"text-align: right;\">                 17.6397</td><td style=\"text-align: right;\">4.19996</td><td style=\"text-align: right;\">17.6397</td><td style=\"text-align: right;\">3.18608</td><td style=\"text-align: right;\">0.00923833</td></tr>\n",
              "<tr><td>DeepLearning_1_AutoML_20200922_053533              </td><td style=\"text-align: right;\">                 22.2045</td><td style=\"text-align: right;\">4.71216</td><td style=\"text-align: right;\">22.2045</td><td style=\"text-align: right;\">3.57283</td><td style=\"text-align: right;\">0.0103645 </td></tr>\n",
              "<tr><td>XRT_1_AutoML_20200922_053533                       </td><td style=\"text-align: right;\">                 22.7843</td><td style=\"text-align: right;\">4.77329</td><td style=\"text-align: right;\">22.7843</td><td style=\"text-align: right;\">3.35047</td><td style=\"text-align: right;\">0.0104907 </td></tr>\n",
              "<tr><td>DeepLearning_grid__1_AutoML_20200922_053533_model_1</td><td style=\"text-align: right;\">                 23.9701</td><td style=\"text-align: right;\">4.89592</td><td style=\"text-align: right;\">23.9701</td><td style=\"text-align: right;\">3.71976</td><td style=\"text-align: right;\">0.0107334 </td></tr>\n",
              "<tr><td>DRF_1_AutoML_20200922_053533                       </td><td style=\"text-align: right;\">                 25.0549</td><td style=\"text-align: right;\">5.00549</td><td style=\"text-align: right;\">25.0549</td><td style=\"text-align: right;\">3.46702</td><td style=\"text-align: right;\">0.010972  </td></tr>\n",
              "<tr><td>GLM_1_AutoML_20200922_053533                       </td><td style=\"text-align: right;\">                 39.5443</td><td style=\"text-align: right;\">6.28843</td><td style=\"text-align: right;\">39.5443</td><td style=\"text-align: right;\">5.03708</td><td style=\"text-align: right;\">0.0136655 </td></tr>\n",
              "<tr><td>GBM_5_AutoML_20200922_053533                       </td><td style=\"text-align: right;\">                 48.3161</td><td style=\"text-align: right;\">6.95098</td><td style=\"text-align: right;\">48.3161</td><td style=\"text-align: right;\">5.71486</td><td style=\"text-align: right;\">0.0151765 </td></tr>\n",
              "</tbody>\n",
              "</table>"
            ]
          },
          "metadata": {
            "tags": []
          }
        },
        {
          "output_type": "execute_result",
          "data": {
            "text/plain": [
              ""
            ]
          },
          "metadata": {
            "tags": []
          },
          "execution_count": 9
        }
      ]
    },
    {
      "cell_type": "code",
      "metadata": {
        "id": "Wl6deIEgS-rI",
        "colab_type": "code",
        "colab": {
          "base_uri": "https://localhost:8080/",
          "height": 213
        },
        "outputId": "6aa81c0f-503d-4350-880a-d371947768b3"
      },
      "source": [
        "aml2.leaderboard.head()"
      ],
      "execution_count": 10,
      "outputs": [
        {
          "output_type": "display_data",
          "data": {
            "text/html": [
              "<table>\n",
              "<thead>\n",
              "<tr><th>model_id                                           </th><th style=\"text-align: right;\">  mean_residual_deviance</th><th style=\"text-align: right;\">   rmse</th><th style=\"text-align: right;\">    mse</th><th style=\"text-align: right;\">    mae</th><th style=\"text-align: right;\">     rmsle</th></tr>\n",
              "</thead>\n",
              "<tbody>\n",
              "<tr><td>XGBoost_grid__1_AutoML_20200922_053638_model_1     </td><td style=\"text-align: right;\">                 12.0908</td><td style=\"text-align: right;\">3.47718</td><td style=\"text-align: right;\">12.0908</td><td style=\"text-align: right;\">2.53959</td><td style=\"text-align: right;\">0.00763567</td></tr>\n",
              "<tr><td>XGBoost_1_AutoML_20200922_053638                   </td><td style=\"text-align: right;\">                 13.2926</td><td style=\"text-align: right;\">3.6459 </td><td style=\"text-align: right;\">13.2926</td><td style=\"text-align: right;\">2.71684</td><td style=\"text-align: right;\">0.00800001</td></tr>\n",
              "<tr><td>XGBoost_2_AutoML_20200922_053638                   </td><td style=\"text-align: right;\">                 13.3446</td><td style=\"text-align: right;\">3.65303</td><td style=\"text-align: right;\">13.3446</td><td style=\"text-align: right;\">2.72005</td><td style=\"text-align: right;\">0.00800715</td></tr>\n",
              "<tr><td>XGBoost_3_AutoML_20200922_053638                   </td><td style=\"text-align: right;\">                 15.1053</td><td style=\"text-align: right;\">3.88656</td><td style=\"text-align: right;\">15.1053</td><td style=\"text-align: right;\">2.94406</td><td style=\"text-align: right;\">0.00852843</td></tr>\n",
              "<tr><td>GBM_grid__1_AutoML_20200922_053638_model_1         </td><td style=\"text-align: right;\">                 15.3551</td><td style=\"text-align: right;\">3.91856</td><td style=\"text-align: right;\">15.3551</td><td style=\"text-align: right;\">2.96477</td><td style=\"text-align: right;\">0.00860271</td></tr>\n",
              "<tr><td>DRF_1_AutoML_20200922_053638                       </td><td style=\"text-align: right;\">                 16.5744</td><td style=\"text-align: right;\">4.07117</td><td style=\"text-align: right;\">16.5744</td><td style=\"text-align: right;\">2.94701</td><td style=\"text-align: right;\">0.00893866</td></tr>\n",
              "<tr><td>XRT_1_AutoML_20200922_053638                       </td><td style=\"text-align: right;\">                 18.7293</td><td style=\"text-align: right;\">4.32773</td><td style=\"text-align: right;\">18.7293</td><td style=\"text-align: right;\">3.12574</td><td style=\"text-align: right;\">0.00949791</td></tr>\n",
              "<tr><td>DeepLearning_1_AutoML_20200922_053638              </td><td style=\"text-align: right;\">                 19.1369</td><td style=\"text-align: right;\">4.37458</td><td style=\"text-align: right;\">19.1369</td><td style=\"text-align: right;\">3.36513</td><td style=\"text-align: right;\">0.0096142 </td></tr>\n",
              "<tr><td>GLM_1_AutoML_20200922_053638                       </td><td style=\"text-align: right;\">                 20.8071</td><td style=\"text-align: right;\">4.56148</td><td style=\"text-align: right;\">20.8071</td><td style=\"text-align: right;\">3.6318 </td><td style=\"text-align: right;\">0.0100391 </td></tr>\n",
              "<tr><td>DeepLearning_grid__1_AutoML_20200922_053638_model_1</td><td style=\"text-align: right;\">                 21.9537</td><td style=\"text-align: right;\">4.68548</td><td style=\"text-align: right;\">21.9537</td><td style=\"text-align: right;\">3.63723</td><td style=\"text-align: right;\">0.0102657 </td></tr>\n",
              "</tbody>\n",
              "</table>"
            ]
          },
          "metadata": {
            "tags": []
          }
        },
        {
          "output_type": "execute_result",
          "data": {
            "text/plain": [
              ""
            ]
          },
          "metadata": {
            "tags": []
          },
          "execution_count": 10
        }
      ]
    },
    {
      "cell_type": "code",
      "metadata": {
        "id": "M0xXJqSLS-rQ",
        "colab_type": "code",
        "colab": {
          "base_uri": "https://localhost:8080/",
          "height": 231
        },
        "outputId": "d61b461d-1cb7-4fe4-a6c2-74f99d617a51"
      },
      "source": [
        "pred = aml.predict(test)\n",
        "pred.head()"
      ],
      "execution_count": 11,
      "outputs": [
        {
          "output_type": "stream",
          "text": [
            "xgboost prediction progress: |████████████████████████████████████████████| 100%\n"
          ],
          "name": "stdout"
        },
        {
          "output_type": "display_data",
          "data": {
            "text/html": [
              "<table>\n",
              "<thead>\n",
              "<tr><th style=\"text-align: right;\">  predict</th></tr>\n",
              "</thead>\n",
              "<tbody>\n",
              "<tr><td style=\"text-align: right;\">  486.393</td></tr>\n",
              "<tr><td style=\"text-align: right;\">  475.607</td></tr>\n",
              "<tr><td style=\"text-align: right;\">  463.437</td></tr>\n",
              "<tr><td style=\"text-align: right;\">  456.602</td></tr>\n",
              "<tr><td style=\"text-align: right;\">  448.295</td></tr>\n",
              "<tr><td style=\"text-align: right;\">  466.345</td></tr>\n",
              "<tr><td style=\"text-align: right;\">  443.562</td></tr>\n",
              "<tr><td style=\"text-align: right;\">  464.527</td></tr>\n",
              "<tr><td style=\"text-align: right;\">  443.245</td></tr>\n",
              "<tr><td style=\"text-align: right;\">  432.798</td></tr>\n",
              "</tbody>\n",
              "</table>"
            ]
          },
          "metadata": {
            "tags": []
          }
        },
        {
          "output_type": "execute_result",
          "data": {
            "text/plain": [
              ""
            ]
          },
          "metadata": {
            "tags": []
          },
          "execution_count": 11
        }
      ]
    },
    {
      "cell_type": "code",
      "metadata": {
        "id": "P1vMKzXMS-rX",
        "colab_type": "code",
        "colab": {
          "base_uri": "https://localhost:8080/",
          "height": 176
        },
        "outputId": "39878fbd-4c47-4c1b-96f5-d7b5ceb01cfc"
      },
      "source": [
        "perf = aml.leader.model_performance(test)\n",
        "perf"
      ],
      "execution_count": 12,
      "outputs": [
        {
          "output_type": "stream",
          "text": [
            "\n",
            "ModelMetricsRegression: xgboost\n",
            "** Reported on test data. **\n",
            "\n",
            "MSE: 12.162549018491964\n",
            "RMSE: 3.487484626273206\n",
            "MAE: 2.46773420522479\n",
            "RMSLE: 0.0076704621273653165\n",
            "Mean Residual Deviance: 12.162549018491964\n"
          ],
          "name": "stdout"
        },
        {
          "output_type": "execute_result",
          "data": {
            "text/plain": [
              ""
            ]
          },
          "metadata": {
            "tags": []
          },
          "execution_count": 12
        }
      ]
    },
    {
      "cell_type": "code",
      "metadata": {
        "id": "INZ7xH1YT362",
        "colab_type": "code",
        "colab": {}
      },
      "source": [
        ""
      ],
      "execution_count": null,
      "outputs": []
    }
  ]
}